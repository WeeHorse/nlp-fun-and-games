{
 "cells": [
  {
   "cell_type": "code",
   "outputs": [
    {
     "name": "stdout",
     "output_type": "stream",
     "text": [
      "Igår handlade jag mjölk, socker och flingor på ICA eller Lidl, men lät det inte handla om något annat än mat.\n"
     ]
    }
   ],
   "source": [
    "import spacy\n",
    "nlp = spacy.load(\"sv_core_news_lg\")\n",
    "\n",
    "text = \"Igår handlade jag mjölk, socker och flingor på ICA eller Lidl, men lät det inte handla om något annat än mat.\"\n",
    "doc = nlp(text)\n",
    "print(doc)"
   ],
   "metadata": {
    "collapsed": false,
    "ExecuteTime": {
     "end_time": "2024-01-31T20:04:20.558382Z",
     "start_time": "2024-01-31T20:04:19.315638Z"
    }
   },
   "id": "cedb33cd353d2787",
   "execution_count": 1
  },
  {
   "cell_type": "code",
   "outputs": [
    {
     "name": "stdout",
     "output_type": "stream",
     "text": [
      "Igår \t True \t False\n",
      "handlade \t False \t False\n",
      "jag \t True \t False\n",
      "mjölk \t False \t False\n",
      ", \t False \t True\n",
      "socker \t False \t False\n",
      "och \t True \t False\n",
      "flingor \t False \t False\n",
      "på \t True \t False\n",
      "ICA \t False \t False\n",
      "eller \t True \t False\n",
      "Lidl \t False \t False\n",
      ", \t False \t True\n",
      "men \t True \t False\n",
      "lät \t False \t False\n",
      "det \t True \t False\n",
      "inte \t True \t False\n",
      "handla \t False \t False\n",
      "om \t True \t False\n",
      "något \t True \t False\n",
      "annat \t True \t False\n",
      "än \t True \t False\n",
      "mat \t False \t False\n",
      ". \t False \t True\n"
     ]
    }
   ],
   "source": [
    "for token in doc:\n",
    "    print(token.text, '\\t' ,token.is_stop, '\\t', token.is_punct)"
   ],
   "metadata": {
    "collapsed": false,
    "ExecuteTime": {
     "end_time": "2024-01-31T20:04:20.566051Z",
     "start_time": "2024-01-31T20:04:20.559103Z"
    }
   },
   "id": "fb6e404c33ef7c4f",
   "execution_count": 2
  },
  {
   "cell_type": "markdown",
   "source": [],
   "metadata": {
    "collapsed": false
   },
   "id": "d082bae4648b14d7"
  },
  {
   "cell_type": "code",
   "outputs": [
    {
     "name": "stdout",
     "output_type": "stream",
     "text": [
      "Igår \t igår \t\n",
      "handlade \t handla \t\n",
      "jag \t jag \t\n",
      "mjölk \t mjölk \t\n",
      ", \t , \t\n",
      "socker \t socker \t\n",
      "och \t och \t\n",
      "flingor \t flinga \t\n",
      "på \t på \t\n",
      "ICA \t ICA \t\n",
      "eller \t eller \t\n",
      "Lidl \t Lidl \t\n",
      ", \t , \t\n",
      "men \t men \t\n",
      "lät \t lät \t\n",
      "det \t den \t\n",
      "inte \t inte \t\n",
      "handla \t handla \t\n",
      "om \t om \t\n",
      "något \t någon \t\n",
      "annat \t annan \t\n",
      "än \t än \t\n",
      "mat \t mat \t\n",
      ". \t . \t\n"
     ]
    }
   ],
   "source": [
    "for token in doc:\n",
    "    print(token.text, '\\t', token.lemma_, '\\t')"
   ],
   "metadata": {
    "collapsed": false,
    "ExecuteTime": {
     "end_time": "2024-01-31T20:04:20.566228Z",
     "start_time": "2024-01-31T20:04:20.562194Z"
    }
   },
   "id": "97eba60b430aaa02",
   "execution_count": 3
  },
  {
   "cell_type": "code",
   "outputs": [
    {
     "name": "stdout",
     "output_type": "stream",
     "text": [
      "Igår \t ADV \t adverb\n",
      "handlade \t VERB \t verb\n",
      "jag \t PRON \t pronoun\n",
      "mjölk \t NOUN \t noun\n",
      ", \t PUNCT \t punctuation\n",
      "socker \t NOUN \t noun\n",
      "och \t CCONJ \t coordinating conjunction\n",
      "flingor \t NOUN \t noun\n",
      "på \t ADP \t adposition\n",
      "ICA \t PROPN \t proper noun\n",
      "eller \t CCONJ \t coordinating conjunction\n",
      "Lidl \t PROPN \t proper noun\n",
      ", \t PUNCT \t punctuation\n",
      "men \t CCONJ \t coordinating conjunction\n",
      "lät \t VERB \t verb\n",
      "det \t PRON \t pronoun\n",
      "inte \t PART \t particle\n",
      "handla \t VERB \t verb\n",
      "om \t ADP \t adposition\n",
      "något \t DET \t determiner\n",
      "annat \t ADJ \t adjective\n",
      "än \t SCONJ \t subordinating conjunction\n",
      "mat \t NOUN \t noun\n",
      ". \t PUNCT \t punctuation\n"
     ]
    }
   ],
   "source": [
    "for token in doc:\n",
    "    print(token.text, '\\t', token.pos_, '\\t', spacy.explain(token.pos_))"
   ],
   "metadata": {
    "collapsed": false,
    "ExecuteTime": {
     "end_time": "2024-01-31T20:04:20.599269Z",
     "start_time": "2024-01-31T20:04:20.565251Z"
    }
   },
   "id": "e17c0b9810d2b064",
   "execution_count": 4
  },
  {
   "cell_type": "code",
   "outputs": [],
   "source": [],
   "metadata": {
    "collapsed": false,
    "ExecuteTime": {
     "end_time": "2024-01-31T20:04:20.599575Z",
     "start_time": "2024-01-31T20:04:20.568169Z"
    }
   },
   "id": "b7a75f2b72b39d37",
   "execution_count": 4
  }
 ],
 "metadata": {
  "kernelspec": {
   "display_name": "Python 3",
   "language": "python",
   "name": "python3"
  },
  "language_info": {
   "codemirror_mode": {
    "name": "ipython",
    "version": 2
   },
   "file_extension": ".py",
   "mimetype": "text/x-python",
   "name": "python",
   "nbconvert_exporter": "python",
   "pygments_lexer": "ipython2",
   "version": "2.7.6"
  }
 },
 "nbformat": 4,
 "nbformat_minor": 5
}
