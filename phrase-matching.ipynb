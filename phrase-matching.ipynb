{
 "cells": [
  {
   "cell_type": "code",
   "execution_count": 16,
   "id": "initial_id",
   "metadata": {
    "collapsed": true,
    "ExecuteTime": {
     "end_time": "2024-01-31T09:57:43.180205Z",
     "start_time": "2024-01-31T09:57:41.487961Z"
    }
   },
   "outputs": [
    {
     "name": "stdout",
     "output_type": "stream",
     "text": [
      "[(7660899936022892659, 211, 213), (7660899936022892659, 817, 818), (7660899936022892659, 1353, 1355), (7660899936022892659, 1366, 1368), (7660899936022892659, 1474, 1476), (7660899936022892659, 1997, 1999)]\n"
     ]
    }
   ],
   "source": [
    "import spacy\n",
    "nlp = spacy.load(\"en_core_web_lg\")\n",
    "from spacy.matcher import PhraseMatcher\n",
    "\n",
    "textToSearch = open(\"text-to-search.txt\", \"r\", encoding=\"utf8\").read()\n",
    "docToSearch = nlp(textToSearch)\n",
    "\n",
    "matcher = PhraseMatcher(nlp.vocab, attr=\"LOWER\")\n",
    "\n",
    "searches = ['', 'The Godfather', 'Marvel Comics', 'Casablanca', 'Harry Potter', 'Severus Snape']\n",
    "\n",
    "searchPatterns = [nlp.make_doc(text) for text in searches]\n",
    "\n",
    "matcher.add('phrase-matching', None, *searchPatterns)\n",
    "\n",
    "characterMatches = matcher(docToSearch)\n",
    "\n",
    "print(characterMatches)\n",
    "\n"
   ]
  },
  {
   "cell_type": "code",
   "outputs": [
    {
     "name": "stdout",
     "output_type": "stream",
     "text": [
      "The Godfather \t|\t WORK_OF_ART \t|\t Vito Corleone (1969) Created by Mario Puzo for novel The Godfather. \t|\t 211 213\n",
      "Casablanca \t|\t WORK_OF_ART \t|\t Later portrayed by Humphrey Bogart in Michael Curtiz’s film adaptation Casablanca. \t|\t 817 818\n",
      "Harry Potter \t|\t PERSON \t|\t Harry Potter (1997)  Created by J.K. Rowling for the novel Harry Potter and the Philosopher’s Stone. \t|\t 1353 1355\n",
      "Harry Potter \t|\t PERSON \t|\t Harry Potter (1997)  Created by J.K. Rowling for the novel Harry Potter and the Philosopher’s Stone. \t|\t 1366 1368\n",
      "Marvel Comics \t|\t ORG \t|\t The Hulk (1962)  Created by Stan Lee and Jack Kirby for The Incredible Hulk #1 (Marvel Comics) Scooby-Doo (1969)  Created by Joe Ruby and Ken Spears for the show Scooby-Doo, Where Are You! \t|\t 1474 1476\n",
      "Marvel Comics \t|\t ORG \t|\t Wolverine (1974)  Created by Roy Thomas, Len Wein, and John Romita Sr for The Incredible Hulk #180 (Marvel Comics) Jason Voorhees (1980)  Created by Victor Miller for the film Friday the 13th. \t|\t 1997 1999\n"
     ]
    }
   ],
   "source": [
    "for matchIndex, start, end in characterMatches:\n",
    "    match = docToSearch[start:end]\n",
    "    print(match, '\\t|\\t', match.ents[0].label_, '\\t|\\t', match.sent, '\\t|\\t', start, end)\n",
    "    "
   ],
   "metadata": {
    "collapsed": false,
    "ExecuteTime": {
     "end_time": "2024-01-31T09:59:44.235590Z",
     "start_time": "2024-01-31T09:59:44.231229Z"
    }
   },
   "id": "3f59ce0bc31042b2",
   "execution_count": 20
  },
  {
   "cell_type": "code",
   "outputs": [],
   "source": [],
   "metadata": {
    "collapsed": false,
    "ExecuteTime": {
     "end_time": "2024-01-31T09:57:43.185920Z",
     "start_time": "2024-01-31T09:57:43.183390Z"
    }
   },
   "id": "9ad8140939a217f6",
   "execution_count": 17
  }
 ],
 "metadata": {
  "kernelspec": {
   "display_name": "Python 3",
   "language": "python",
   "name": "python3"
  },
  "language_info": {
   "codemirror_mode": {
    "name": "ipython",
    "version": 2
   },
   "file_extension": ".py",
   "mimetype": "text/x-python",
   "name": "python",
   "nbconvert_exporter": "python",
   "pygments_lexer": "ipython2",
   "version": "2.7.6"
  }
 },
 "nbformat": 4,
 "nbformat_minor": 5
}
